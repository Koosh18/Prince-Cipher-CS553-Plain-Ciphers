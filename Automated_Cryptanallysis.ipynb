{
  "nbformat": 4,
  "nbformat_minor": 0,
  "metadata": {
    "colab": {
      "provenance": []
    },
    "kernelspec": {
      "name": "python3",
      "display_name": "Python 3"
    },
    "language_info": {
      "name": "python"
    }
  },
  "cells": [
    {
      "cell_type": "code",
      "source": [
        "!pip install -q pyomo\n",
        "!apt-get install -y -q glpk-utils\n",
        "!pip install glpk\n"
      ],
      "metadata": {
        "colab": {
          "base_uri": "https://localhost:8080/"
        },
        "id": "iVcS3k4q3dz_",
        "outputId": "dbecf485-c811-41dd-9480-f6e1871fde40"
      },
      "execution_count": 17,
      "outputs": [
        {
          "output_type": "stream",
          "name": "stdout",
          "text": [
            "Reading package lists...\n",
            "Building dependency tree...\n",
            "Reading state information...\n",
            "glpk-utils is already the newest version (5.0-1).\n",
            "0 upgraded, 0 newly installed, 0 to remove and 49 not upgraded.\n",
            "Collecting glpk\n",
            "  Using cached glpk-0.4.8.tar.gz (160 kB)\n",
            "  Installing build dependencies ... \u001b[?25l\u001b[?25hdone\n",
            "  Getting requirements to build wheel ... \u001b[?25l\u001b[?25hdone\n",
            "  Preparing metadata (pyproject.toml) ... \u001b[?25l\u001b[?25hdone\n",
            "Building wheels for collected packages: glpk\n",
            "  \u001b[1;31merror\u001b[0m: \u001b[1msubprocess-exited-with-error\u001b[0m\n",
            "  \n",
            "  \u001b[31m×\u001b[0m \u001b[32mBuilding wheel for glpk \u001b[0m\u001b[1;32m(\u001b[0m\u001b[32mpyproject.toml\u001b[0m\u001b[1;32m)\u001b[0m did not run successfully.\n",
            "  \u001b[31m│\u001b[0m exit code: \u001b[1;36m1\u001b[0m\n",
            "  \u001b[31m╰─>\u001b[0m See above for output.\n",
            "  \n",
            "  \u001b[1;35mnote\u001b[0m: This error originates from a subprocess, and is likely not a problem with pip.\n",
            "  Building wheel for glpk (pyproject.toml) ... \u001b[?25l\u001b[?25herror\n",
            "\u001b[31m  ERROR: Failed building wheel for glpk\u001b[0m\u001b[31m\n",
            "\u001b[0mFailed to build glpk\n",
            "\u001b[31mERROR: ERROR: Failed to build installable wheels for some pyproject.toml based projects (glpk)\u001b[0m\u001b[31m\n",
            "\u001b[0m"
          ]
        }
      ]
    },
    {
      "cell_type": "code",
      "source": [
        "!pip install mip\n"
      ],
      "metadata": {
        "colab": {
          "base_uri": "https://localhost:8080/"
        },
        "id": "XRw6QSbc9EP2",
        "outputId": "0910031d-2db6-4c74-b3d5-13617e356559"
      },
      "execution_count": 28,
      "outputs": [
        {
          "output_type": "stream",
          "name": "stdout",
          "text": [
            "Collecting mip\n",
            "  Downloading mip-1.15.0-py3-none-any.whl.metadata (21 kB)\n",
            "Collecting cffi==1.15.* (from mip)\n",
            "  Downloading cffi-1.15.1-cp310-cp310-manylinux_2_17_x86_64.manylinux2014_x86_64.whl.metadata (1.1 kB)\n",
            "Requirement already satisfied: pycparser in /usr/local/lib/python3.10/dist-packages (from cffi==1.15.*->mip) (2.22)\n",
            "Downloading mip-1.15.0-py3-none-any.whl (15.3 MB)\n",
            "\u001b[2K   \u001b[90m━━━━━━━━━━━━━━━━━━━━━━━━━━━━━━━━━━━━━━━━\u001b[0m \u001b[32m15.3/15.3 MB\u001b[0m \u001b[31m56.2 MB/s\u001b[0m eta \u001b[36m0:00:00\u001b[0m\n",
            "\u001b[?25hDownloading cffi-1.15.1-cp310-cp310-manylinux_2_17_x86_64.manylinux2014_x86_64.whl (441 kB)\n",
            "\u001b[2K   \u001b[90m━━━━━━━━━━━━━━━━━━━━━━━━━━━━━━━━━━━━━━━━\u001b[0m \u001b[32m441.8/441.8 kB\u001b[0m \u001b[31m29.1 MB/s\u001b[0m eta \u001b[36m0:00:00\u001b[0m\n",
            "\u001b[?25hInstalling collected packages: cffi, mip\n",
            "  Attempting uninstall: cffi\n",
            "    Found existing installation: cffi 1.17.1\n",
            "    Uninstalling cffi-1.17.1:\n",
            "      Successfully uninstalled cffi-1.17.1\n",
            "\u001b[31mERROR: pip's dependency resolver does not currently take into account all the packages that are installed. This behaviour is the source of the following dependency conflicts.\n",
            "pygit2 1.16.0 requires cffi>=1.17.0, but you have cffi 1.15.1 which is incompatible.\u001b[0m\u001b[31m\n",
            "\u001b[0mSuccessfully installed cffi-1.15.1 mip-1.15.0\n"
          ]
        }
      ]
    },
    {
      "cell_type": "code",
      "execution_count": 32,
      "metadata": {
        "colab": {
          "base_uri": "https://localhost:8080/"
        },
        "id": "9y5BrHlm3X1R",
        "outputId": "d1a83b3a-8057-4eae-e84c-815daf5a5ac6"
      },
      "outputs": [
        {
          "output_type": "stream",
          "name": "stdout",
          "text": [
            "Gurobi Optimizer version 12.0.0 build v12.0.0rc1 (linux64 - \"Ubuntu 22.04.3 LTS\")\n",
            "\n",
            "CPU model: Intel(R) Xeon(R) CPU @ 2.20GHz, instruction set [SSE2|AVX|AVX2]\n",
            "Thread count: 1 physical cores, 2 logical processors, using up to 2 threads\n",
            "\n",
            "Optimize a model with 1929 rows, 1792 columns and 2064 nonzeros\n",
            "Model fingerprint: 0xb9ebf3bb\n",
            "Variable types: 0 continuous, 1792 integer (1792 binary)\n",
            "Coefficient statistics:\n",
            "  Matrix range     [1e+00, 1e+00]\n",
            "  Objective range  [1e+00, 1e+00]\n",
            "  Bounds range     [1e+00, 1e+00]\n",
            "  RHS range        [2e+01, 2e+01]\n",
            "Found heuristic solution: objective 48.0000000\n",
            "Presolve removed 1929 rows and 1792 columns\n",
            "Presolve time: 0.00s\n",
            "Presolve: All rows and columns removed\n",
            "\n",
            "Explored 0 nodes (0 simplex iterations) in 0.04 seconds (0.00 work units)\n",
            "Thread count was 1 (of 2 available processors)\n",
            "\n",
            "Solution count 1: 48 \n",
            "\n",
            "Optimal solution found (tolerance 1.00e-04)\n",
            "Best objective 4.800000000000e+01, best bound 4.800000000000e+01, gap 0.0000%\n",
            "Optimal solution found with 48.0 active S-boxes.\n",
            "Round 0: Active S-boxes: []\n",
            "Round 1: Active S-boxes: []\n",
            "Round 2: Active S-boxes: []\n",
            "Round 3: Active S-boxes: [0, 1, 2, 3, 4, 5, 6, 7, 8, 9, 10, 11, 12, 13, 14, 15]\n",
            "Round 4: Active S-boxes: []\n",
            "Round 5: Active S-boxes: []\n",
            "Round 6: Active S-boxes: []\n",
            "Round 7: Active S-boxes: [0, 1, 2, 3, 4, 5, 6, 7, 8, 9, 10, 11, 12, 13, 14, 15]\n",
            "Round 8: Active S-boxes: [0, 1, 2, 3, 4, 5, 6, 7, 8, 9, 10, 11, 12, 13, 14, 15]\n",
            "Round 9: Active S-boxes: []\n",
            "Round 10: Active S-boxes: []\n",
            "Round 11: Active S-boxes: []\n"
          ]
        }
      ],
      "source": [
        "from gurobipy import Model, GRB, quicksum\n",
        "\n",
        "# Cipher Parameters\n",
        "num_rounds = 12  # Total number of rounds in PRINCE\n",
        "state_size = 64  # State size in bits\n",
        "num_sboxes = 16  # Number of S-boxes per round\n",
        "sbox_size = 4    # S-box size in bits\n",
        "\n",
        "# S-box inequalities placeholder (replace with actual PRINCE S-box constraints)\n",
        "# Example: Each tuple represents a linear inequality (coefficients + constant term)\n",
        "sbox_inequalities = [\n",
        "    (1, -1, 0, 0, -1, 1, 0, 0, 0),  # Example inequality: x0 - x1 - y0 + y1 >= 0\n",
        "    (-1, 1, 0, 0, 1, -1, 0, 0, 0),  # Replace with actual PRINCE S-box inequalities\n",
        "    # Add all inequalities describing the S-box here...\n",
        "]\n",
        "\n",
        "# Correct linear layer matrix for 64-bit state\n",
        "# Example: PRINCE operates on 4x4 nibbles, so expand the linear diffusion matrix\n",
        "# (adjust based on the actual PRINCE diffusion matrix specification)\n",
        "linear_layer_matrix = [\n",
        "    # 64x64 binary matrix, representing how each output bit is computed\n",
        "    # Replace with PRINCE's actual diffusion matrix\n",
        "    [1 if i == j or (i + j) % state_size == 0 else 0 for j in range(state_size)]\n",
        "    for i in range(state_size)\n",
        "]\n",
        "\n",
        "\n",
        "\n",
        "\n",
        "# Create a new model\n",
        "model = Model(\"PRINCE_Cipher\")\n",
        "\n",
        "# Variables\n",
        "X = model.addVars(num_rounds + 1, state_size, vtype=GRB.BINARY, name=\"X\")  # State variables\n",
        "K = model.addVars(num_rounds, state_size, vtype=GRB.BINARY, name=\"K\")      # Key variables\n",
        "S = model.addVars(num_rounds, num_sboxes, vtype=GRB.BINARY, name=\"S\")      # Active S-boxes\n",
        "\n",
        "# Objective: Minimize total active S-boxes\n",
        "model.setObjective(quicksum(S[r, i] for r in range(num_rounds) for i in range(num_sboxes)), GRB.MINIMIZE)\n",
        "\n",
        "for r in range(num_rounds):\n",
        "    # Linear diffusion layer: Segment the state into 4-bit blocks\n",
        "    for i in range(state_size):\n",
        "        model.addConstr(\n",
        "            X[r + 1, i] == quicksum(linear_layer_matrix[i][j] * X[r + 1, j] for j in range(state_size)),\n",
        "            name=f\"Linear_R{r}_Bit{i}\"\n",
        "        )\n",
        "\n",
        "    # S-box layer: Add inequalities for each S-box\n",
        "    for i in range(num_sboxes):\n",
        "        sbox_input = [X[r + 1, j] for j in range(i * sbox_size, (i + 1) * sbox_size)]\n",
        "        sbox_output = [X[r + 1, j] for j in range(i * sbox_size, (i + 1) * sbox_size)]  # Replace with actual output\n",
        "        for inequality in sbox_inequalities:\n",
        "            lhs = quicksum(coeff * var for coeff, var in zip(inequality[:-1], sbox_input + sbox_output))\n",
        "            model.addConstr(lhs >= inequality[-1], name=f\"Sbox_R{r}_Sbox{i}\")\n",
        "\n",
        "    # Linear diffusion layer\n",
        "    for i in range(state_size):\n",
        "        model.addConstr(\n",
        "            X[r + 1, i] == quicksum(linear_layer_matrix[i][j] * X[r + 1, j] for j in range(state_size)),\n",
        "            name=f\"Linear_R{r}_Bit{i}\"\n",
        "        )\n",
        "\n",
        "# Active S-box constraint: At least 16 active S-boxes in 4 consecutive rounds\n",
        "window_size = 4\n",
        "active_sboxes_required = 16\n",
        "for r in range(num_rounds - window_size + 1):\n",
        "    model.addConstr(\n",
        "        quicksum(S[rr, i] for rr in range(r, r + window_size) for i in range(num_sboxes)) >= active_sboxes_required,\n",
        "        name=f\"ActiveSboxes_R{r}_to_R{r+window_size-1}\"\n",
        "    )\n",
        "\n",
        "# Solve the model\n",
        "model.optimize()\n",
        "\n",
        "# Output results\n",
        "if model.status == GRB.OPTIMAL:\n",
        "    print(f\"Optimal solution found with {model.objVal} active S-boxes.\")\n",
        "    for r in range(num_rounds):\n",
        "        active_sboxes = [i for i in range(num_sboxes) if S[r, i].x > 0.5]\n",
        "        print(f\"Round {r}: Active S-boxes: {active_sboxes}\")\n",
        "else:\n",
        "    print(\"No optimal solution found.\")\n"
      ]
    },
    {
      "cell_type": "code",
      "source": [],
      "metadata": {
        "id": "8nzwaFGl3cwH"
      },
      "execution_count": null,
      "outputs": []
    }
  ]
}