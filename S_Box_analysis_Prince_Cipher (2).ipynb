{
  "nbformat": 4,
  "nbformat_minor": 0,
  "metadata": {
    "colab": {
      "provenance": []
    },
    "kernelspec": {
      "name": "python3",
      "display_name": "Python 3"
    },
    "language_info": {
      "name": "python"
    }
  },
  "cells": [
    {
      "cell_type": "code",
      "source": [
        "!pip install numpy matplotlib seaborn"
      ],
      "metadata": {
        "colab": {
          "base_uri": "https://localhost:8080/"
        },
        "id": "3gruZVs5DEH0",
        "outputId": "fd11555b-a453-47e9-992e-fc42cfd3a80b"
      },
      "execution_count": null,
      "outputs": [
        {
          "output_type": "stream",
          "name": "stdout",
          "text": [
            "Requirement already satisfied: numpy in /usr/local/lib/python3.10/dist-packages (1.26.4)\n",
            "Requirement already satisfied: matplotlib in /usr/local/lib/python3.10/dist-packages (3.8.0)\n",
            "Requirement already satisfied: seaborn in /usr/local/lib/python3.10/dist-packages (0.13.2)\n",
            "Requirement already satisfied: contourpy>=1.0.1 in /usr/local/lib/python3.10/dist-packages (from matplotlib) (1.3.1)\n",
            "Requirement already satisfied: cycler>=0.10 in /usr/local/lib/python3.10/dist-packages (from matplotlib) (0.12.1)\n",
            "Requirement already satisfied: fonttools>=4.22.0 in /usr/local/lib/python3.10/dist-packages (from matplotlib) (4.55.0)\n",
            "Requirement already satisfied: kiwisolver>=1.0.1 in /usr/local/lib/python3.10/dist-packages (from matplotlib) (1.4.7)\n",
            "Requirement already satisfied: packaging>=20.0 in /usr/local/lib/python3.10/dist-packages (from matplotlib) (24.2)\n",
            "Requirement already satisfied: pillow>=6.2.0 in /usr/local/lib/python3.10/dist-packages (from matplotlib) (11.0.0)\n",
            "Requirement already satisfied: pyparsing>=2.3.1 in /usr/local/lib/python3.10/dist-packages (from matplotlib) (3.2.0)\n",
            "Requirement already satisfied: python-dateutil>=2.7 in /usr/local/lib/python3.10/dist-packages (from matplotlib) (2.8.2)\n",
            "Requirement already satisfied: pandas>=1.2 in /usr/local/lib/python3.10/dist-packages (from seaborn) (2.2.2)\n",
            "Requirement already satisfied: pytz>=2020.1 in /usr/local/lib/python3.10/dist-packages (from pandas>=1.2->seaborn) (2024.2)\n",
            "Requirement already satisfied: tzdata>=2022.7 in /usr/local/lib/python3.10/dist-packages (from pandas>=1.2->seaborn) (2024.2)\n",
            "Requirement already satisfied: six>=1.5 in /usr/local/lib/python3.10/dist-packages (from python-dateutil>=2.7->matplotlib) (1.16.0)\n"
          ]
        }
      ]
    },
    {
      "cell_type": "code",
      "execution_count": 3,
      "metadata": {
        "colab": {
          "base_uri": "https://localhost:8080/"
        },
        "id": "CPHdjXjUCwjV",
        "outputId": "ca884922-e2df-44e8-db51-64c728164a32"
      },
      "outputs": [
        {
          "output_type": "stream",
          "name": "stdout",
          "text": [
            "1. Differential Uniformity: 4/16\n",
            "2. Differential Branch Number: 2\n",
            "\n",
            "Differential Distribution Table (DDT):\n",
            "  In\\Out    0    1    2    3    4    5    6    7    8    9   10   11   12   13   14   15 \n",
            "     0   16    0    0    0    0    0    0    0    0    0    0    0    0    0    0    0 \n",
            "     1    0    4    0    0    2    0    2    0    4    2    0    2    0    0    0    0 \n",
            "     2    0    2    0    4    0    0    0    2    2    0    0    0    0    4    2    0 \n",
            "     3    0    0    0    0    0    2    2    0    2    2    2    2    2    0    0    2 \n",
            "     4    0    2    2    4    2    2    0    0    2    0    2    0    0    0    0    0 \n",
            "     5    0    0    2    2    0    2    0    2    0    2    0    2    2    2    0    0 \n",
            "     6    0    0    2    2    0    2    2    0    0    2    0    2    0    0    4    0 \n",
            "     7    0    0    2    0    0    0    2    0    2    0    4    0    0    2    2    2 \n",
            "     8    0    0    2    0    4    2    0    0    2    2    0    2    0    2    0    0 \n",
            "     9    0    0    2    2    0    0    0    0    0    2    2    0    4    2    0    2 \n",
            "    10    0    0    0    2    2    4    0    4    2    0    0    0    0    0    0    2 \n",
            "    11    0    2    0    0    4    0    0    2    0    0    0    2    2    0    2    2 \n",
            "    12    0    4    0    0    0    2    2    0    0    0    2    2    2    0    2    0 \n",
            "    13    0    2    0    0    0    0    0    2    0    4    2    0    0    2    2    2 \n",
            "    14    0    0    2    0    0    0    4    2    0    0    0    2    2    2    0    2 \n",
            "    15    0    0    2    0    2    0    2    2    0    0    2    0    2    0    2    2 \n"
          ]
        }
      ],
      "source": [
        "import numpy as np\n",
        "\n",
        "class PRINCESBoxAnalysis:\n",
        "    def __init__(self):\n",
        "        # PRINCE Cipher S-Box\n",
        "        self.sbox = [\n",
        "            0xb, 0xf, 0x3, 0x2,\n",
        "            0xa, 0xc, 0x9, 0x1,\n",
        "            0x6, 0x7, 0x8, 0x0,\n",
        "            0xe, 0x5, 0xd, 0x4\n",
        "        ]\n",
        "\n",
        "        # Create mappings\n",
        "        self.sbox_dict = {i: self.sbox[i] for i in range(len(self.sbox))}\n",
        "        self.inv_sbox_dict = {self.sbox[i]: i for i in range(len(self.sbox))}\n",
        "\n",
        "    def sbox_transform(self, x):\n",
        "        \"\"\"Apply S-box transformation\"\"\"\n",
        "        return self.sbox_dict[x & 0xF]\n",
        "\n",
        "    def compute_ddt(self):\n",
        "        \"\"\"Compute Differential Distribution Table\"\"\"\n",
        "        ddt = np.zeros((16, 16), dtype=int)\n",
        "\n",
        "        for x1 in range(16):\n",
        "            for x2 in range(16):\n",
        "                dx = x1 ^ x2\n",
        "                dy = self.sbox_transform(x1) ^ self.sbox_transform(x2)\n",
        "                ddt[dx][dy] += 1\n",
        "\n",
        "        return ddt\n",
        "\n",
        "\n",
        "\n",
        "    def analyze_differential_properties(self, ddt):\n",
        "        \"\"\"Analyze differential characteristics\"\"\"\n",
        "        # Exclude trivial (0,0) pair\n",
        "        ddt_without_zero = ddt[1:, :]\n",
        "\n",
        "        # Find max differential probability\n",
        "        max_diff_prob = np.max(ddt_without_zero)\n",
        "\n",
        "        return max_diff_prob\n",
        "\n",
        "    def compute_differential_branch_number(self):\n",
        "        \"\"\"\n",
        "        Compute the differential branch number of the S-box\n",
        "\n",
        "        The differential branch number is the minimum Hamming weight\n",
        "        of the differences of input and output for non-zero input differences.\n",
        "        \"\"\"\n",
        "        min_branch_number = float('inf')\n",
        "\n",
        "        for dx in range(1, 16):  # Non-zero input differences\n",
        "            for x1 in range(16):\n",
        "                x2 = x1 ^ dx\n",
        "                dy = self.sbox_transform(x1) ^ self.sbox_transform(x2)\n",
        "\n",
        "                # Compute branch number for this pair\n",
        "                # Branch number = weight of input difference + weight of output difference\n",
        "                input_weight = bin(dx).count('1')\n",
        "                output_weight = bin(dy).count('1')\n",
        "                branch_number = input_weight + output_weight\n",
        "\n",
        "                min_branch_number = min(min_branch_number, branch_number)\n",
        "\n",
        "        return min_branch_number\n",
        "\n",
        "    def print_ddt(self, ddt):\n",
        "        \"\"\"Print Differential Distribution Table\"\"\"\n",
        "        print(\"\\nDifferential Distribution Table (DDT):\")\n",
        "        print(\"  In\\\\Out\", end=\" \")\n",
        "        for j in range(16):\n",
        "            print(f\"{j:4}\", end=\" \")\n",
        "        print()\n",
        "\n",
        "        for i in range(16):\n",
        "            print(f\"{i:6}\", end=\" \")\n",
        "            for j in range(16):\n",
        "                print(f\"{ddt[i][j]:4}\", end=\" \")\n",
        "            print()\n",
        "\n",
        "\n",
        "\n",
        "    def full_analysis(self):\n",
        "        \"\"\"Perform comprehensive S-box analysis\"\"\"\n",
        "        # Compute DDT and LAT\n",
        "        ddt = self.compute_ddt()\n",
        "\n",
        "\n",
        "        # Differential Analysis\n",
        "        max_diff_prob = self.analyze_differential_properties(ddt)\n",
        "\n",
        "        # Differential Branch Number\n",
        "        diff_branch_number = self.compute_differential_branch_number()\n",
        "\n",
        "        # Print Results\n",
        "        print(f\"1. Differential Uniformity: {max_diff_prob}/16\")\n",
        "        print(f\"2. Differential Branch Number: {diff_branch_number}\")\n",
        "\n",
        "        # Print tables\n",
        "        self.print_ddt(ddt)\n",
        "\n",
        "\n",
        "        return ddt\n",
        "\n",
        "# Run the analysis\n",
        "analysis = PRINCESBoxAnalysis()\n",
        "ddt = analysis.full_analysis()"
      ]
    },
    {
      "cell_type": "code",
      "source": [
        "import numpy as np\n",
        "\n",
        "# Define the S-box\n",
        "sbox = [\n",
        "    0xb, 0xf, 0x3, 0x2,\n",
        "    0xa, 0xc, 0x9, 0x1,\n",
        "    0x6, 0x7, 0x8, 0x0,\n",
        "    0xe, 0x5, 0xd, 0x4\n",
        "]\n",
        "\n",
        "# Function to calculate parity\n",
        "def parity(x):\n",
        "    return bin(x).count('1') % 2\n",
        "\n",
        "# Initialize the LAT\n",
        "lat = np.zeros((16, 16), dtype=int)\n",
        "\n",
        "# Fill the LAT\n",
        "for input_mask in range(16):\n",
        "    for output_mask in range(16):\n",
        "        count = 0\n",
        "        for x in range(16):\n",
        "            input_parity = parity(x & input_mask)\n",
        "            output_parity = parity(sbox[x] & output_mask)\n",
        "            if input_parity == output_parity:\n",
        "                count += 1\n",
        "        lat[input_mask][output_mask] = count - 8\n",
        "\n",
        "# Display the LAT\n",
        "print(\"Linear Approximation Table (LAT):\")\n",
        "print(lat)\n",
        "\n",
        "\n"
      ],
      "metadata": {
        "id": "dmIiqCAGDDSL",
        "colab": {
          "base_uri": "https://localhost:8080/"
        },
        "outputId": "91999e77-9533-40c7-8c8f-56a31ea1916d"
      },
      "execution_count": 5,
      "outputs": [
        {
          "output_type": "stream",
          "name": "stdout",
          "text": [
            "Linear Approximation Table (LAT):\n",
            "[[ 8  0  0  0  0  0  0  0  0  0  0  0  0  0  0  0]\n",
            " [ 0  0 -2 -2  2 -2  0  4 -4  0 -2  2 -2 -2  0  0]\n",
            " [ 0  0 -4  0 -4  0  0  0 -2 -2  2 -2 -2  2  2  2]\n",
            " [ 0  4 -2 -2  2 -2  0  0  2  2  4  0  0  0  2 -2]\n",
            " [ 0  0 -4  4  2  2  2  2  2  2 -2 -2  0  0  0  0]\n",
            " [ 0  0  2  2  0 -4 -2  2  2 -2  0 -4 -2 -2  0  0]\n",
            " [ 0 -4  0  0 -2 -2  2 -2  0  4  0  0 -2 -2  2 -2]\n",
            " [ 0  0  2 -2  0  0 -2  2  0  4 -2 -2  0  4  2  2]\n",
            " [ 0 -2 -2  0  4 -2 -2 -4 -2  0  0 -2  2  0  0  2]\n",
            " [ 0 -2  0  2  2  0 -2  0  2  0  2  4 -4  2  0  2]\n",
            " [ 0  2  2  4  0  2 -2  0 -4  2  2  0  0 -2  2  0]\n",
            " [ 0 -2  0 -2  2  4 -2  0  0 -2  0 -2 -2  0  2 -4]\n",
            " [ 0 -2 -2  0 -2  0 -4  2  0  2  2  0  2  0 -4 -2]\n",
            " [ 0 -2  0  2  0 -2  0  2  0 -2  0  2  4  2  4 -2]\n",
            " [ 0 -2  2  0  2  0  4  2 -2  0  4 -2  0  2 -2  0]\n",
            " [ 0  2  0  2  0 -2  0 -2 -2  0 -2  0 -2  4 -2 -4]]\n"
          ]
        }
      ]
    },
    {
      "cell_type": "code",
      "source": [],
      "metadata": {
        "id": "MUFaz9a2DCgh"
      },
      "execution_count": null,
      "outputs": []
    }
  ]
}